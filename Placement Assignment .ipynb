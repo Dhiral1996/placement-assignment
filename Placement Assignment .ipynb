{
 "cells": [
  {
   "cell_type": "markdown",
   "id": "5e0a7a2e",
   "metadata": {},
   "source": [
    "1. Create a function in python to read the text file and replace specific content\n",
    "of the file."
   ]
  },
  {
   "cell_type": "code",
   "execution_count": 7,
   "id": "cd0a7ee2",
   "metadata": {},
   "outputs": [],
   "source": [
    "def replace_text():\n",
    "    with open(\"example.txt\", \"wt\") as f:\n",
    "        f.write(\"This is placement assignment\")\n",
    "        f.close()\n",
    "        f = open('example.txt', \"rt\")\n",
    "        data = f.read()\n",
    "        data = data.replace(\"placement\", \"screening\")\n",
    "        f.close()\n",
    "        f = open('example.txt', \"wt\")\n",
    "        f.write(data)\n",
    "        f.close()"
   ]
  },
  {
   "cell_type": "code",
   "execution_count": 10,
   "id": "aa285bf5",
   "metadata": {},
   "outputs": [],
   "source": [
    "replace_text()"
   ]
  },
  {
   "cell_type": "markdown",
   "id": "2a086aa0",
   "metadata": {},
   "source": [
    "2. Demonstrate use of abstract class, multiple inheritance and decorator in\n",
    "python using examples."
   ]
  },
  {
   "cell_type": "code",
   "execution_count": 31,
   "id": "df0d4846",
   "metadata": {},
   "outputs": [],
   "source": [
    "## Use of Abstract class and decorator \n",
    "from abc import ABC, abstractmethod\n",
    "\n",
    "class Bike(ABC):\n",
    "    def country(self):\n",
    "        pass\n",
    "    \n",
    "    def capacity(self):\n",
    "        print(\"capacity = 1000cc\")\n",
    "\n",
    "## Use of multiple inheritance \n",
    "        \n",
    "class Yamaha(Bike):\n",
    "    def country(self):\n",
    "        print(\"I am from Japan\")\n",
    "        \n",
    "class TVS(Bike):\n",
    "    def country(self):\n",
    "        print(\"I am from India\")\n",
    "        \n",
    "class Harley(Bike):\n",
    "    def country(self):\n",
    "        print(\"I am from US\")\n",
    "        \n",
    "class BMW(Bike):\n",
    "    def country(self):\n",
    "        print(\"I am from Germany\") "
   ]
  },
  {
   "cell_type": "code",
   "execution_count": 32,
   "id": "eaf17eb4",
   "metadata": {},
   "outputs": [],
   "source": [
    "Y = Yamaha()\n",
    "T = TVS()\n",
    "H = Harley()\n",
    "B = BMW()"
   ]
  },
  {
   "cell_type": "code",
   "execution_count": 33,
   "id": "ef386db4",
   "metadata": {},
   "outputs": [
    {
     "name": "stdout",
     "output_type": "stream",
     "text": [
      "I am from Japan\n",
      "capacity = 1000cc\n"
     ]
    }
   ],
   "source": [
    "Y.country()\n",
    "Y.capacity()"
   ]
  },
  {
   "cell_type": "code",
   "execution_count": 34,
   "id": "30f863e8",
   "metadata": {},
   "outputs": [
    {
     "name": "stdout",
     "output_type": "stream",
     "text": [
      "I am from India\n",
      "capacity = 1000cc\n"
     ]
    }
   ],
   "source": [
    "T.country()\n",
    "T.capacity()"
   ]
  },
  {
   "cell_type": "code",
   "execution_count": 35,
   "id": "65036e7a",
   "metadata": {},
   "outputs": [
    {
     "name": "stdout",
     "output_type": "stream",
     "text": [
      "I am from US\n",
      "capacity = 1000cc\n"
     ]
    }
   ],
   "source": [
    "H.country()\n",
    "H.capacity()"
   ]
  },
  {
   "cell_type": "code",
   "execution_count": 36,
   "id": "b85d5480",
   "metadata": {},
   "outputs": [
    {
     "name": "stdout",
     "output_type": "stream",
     "text": [
      "I am from Germany\n",
      "capacity = 1000cc\n"
     ]
    }
   ],
   "source": [
    "B.country()\n",
    "B.capacity()"
   ]
  },
  {
   "cell_type": "code",
   "execution_count": null,
   "id": "a5da155c",
   "metadata": {},
   "outputs": [],
   "source": []
  }
 ],
 "metadata": {
  "kernelspec": {
   "display_name": "Python 3 (ipykernel)",
   "language": "python",
   "name": "python3"
  },
  "language_info": {
   "codemirror_mode": {
    "name": "ipython",
    "version": 3
   },
   "file_extension": ".py",
   "mimetype": "text/x-python",
   "name": "python",
   "nbconvert_exporter": "python",
   "pygments_lexer": "ipython3",
   "version": "3.9.7"
  }
 },
 "nbformat": 4,
 "nbformat_minor": 5
}
